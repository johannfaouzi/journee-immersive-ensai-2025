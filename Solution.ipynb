{
 "cells": [
  {
   "cell_type": "markdown",
   "id": "40ed8bb2",
   "metadata": {},
   "source": [
    "# Un peu de calcul en Python\n",
    "\n",
    "Il existe deux principales manières d'effectuer du calcul avec un ordinateur :\n",
    "\n",
    "* le calcul approximatif, également appelé **calcul en [virgule flottante](https://fr.wikipedia.org/wiki/Virgule_flottante)**, et\n",
    "* le calcul formel, également appelé [**calcul symbolique**](https://fr.wikipedia.org/wiki/Calcul_formel).\n",
    "\n",
    "On va voir comment effectuer ces deux types de calcul en Python."
   ]
  },
  {
   "cell_type": "markdown",
   "id": "8a4a79f9",
   "metadata": {},
   "source": [
    "## 1. Calcul en virgule flottante\n",
    "\n",
    "On s'intéresse à la représentation de la fraction $\\displaystyle \\frac{1}{3}$ en Python.\n",
    "\n",
    "**Question 1 : Exécutez les cellules ci-dessous. Que constatez-vous ?**"
   ]
  },
  {
   "cell_type": "code",
   "execution_count": 1,
   "id": "d8121d5f",
   "metadata": {},
   "outputs": [
    {
     "data": {
      "text/plain": [
       "'0.3333333333333333'"
      ]
     },
     "execution_count": 1,
     "metadata": {},
     "output_type": "execute_result"
    }
   ],
   "source": [
    "format(1 / 3)"
   ]
  },
  {
   "cell_type": "code",
   "execution_count": 2,
   "id": "72f858f1",
   "metadata": {},
   "outputs": [
    {
     "data": {
      "text/plain": [
       "'0.3333333333333333'"
      ]
     },
     "execution_count": 2,
     "metadata": {},
     "output_type": "execute_result"
    }
   ],
   "source": [
    "format(1 / 3, '.16f')"
   ]
  },
  {
   "cell_type": "code",
   "execution_count": 3,
   "id": "812bd4a3",
   "metadata": {},
   "outputs": [
    {
     "data": {
      "text/plain": [
       "'0.33333333333333331482961625624739'"
      ]
     },
     "execution_count": 3,
     "metadata": {},
     "output_type": "execute_result"
    }
   ],
   "source": [
    "format(1 / 3, '.32f')"
   ]
  },
  {
   "cell_type": "code",
   "execution_count": 4,
   "id": "7f183b97",
   "metadata": {},
   "outputs": [
    {
     "data": {
      "text/plain": [
       "'0.3333333333333333148296162562473909929394721984863281250000000000000000000000000000000000000000000000'"
      ]
     },
     "execution_count": 4,
     "metadata": {},
     "output_type": "execute_result"
    }
   ],
   "source": [
    "format(1 / 3, '.100f')"
   ]
  },
  {
   "cell_type": "code",
   "execution_count": 5,
   "id": "aeb82aef",
   "metadata": {},
   "outputs": [
    {
     "data": {
      "text/plain": [
       "'3333333333.3333330154418945312500000000000000000000000000000000000000000000000000000000000000000000000000000000'"
      ]
     },
     "execution_count": 5,
     "metadata": {},
     "output_type": "execute_result"
    }
   ],
   "source": [
    "format(1 / 3 * 1e10, '.100f')"
   ]
  },
  {
   "cell_type": "code",
   "execution_count": 6,
   "id": "ef210b95",
   "metadata": {},
   "outputs": [
    {
     "data": {
      "text/plain": [
       "'0.0000000000333333333333333345477399105165913859721849021866546536330133676528930664062500000000000000'"
      ]
     },
     "execution_count": 6,
     "metadata": {},
     "output_type": "execute_result"
    }
   ],
   "source": [
    "format(1 / 3 * 1e-10, '.100f')"
   ]
  },
  {
   "cell_type": "markdown",
   "id": "2b7ef858",
   "metadata": {},
   "source": [
    "**Réponse** : On constate que les premières décimales d'un nombre flottant sont correctes, mais à partir d'un certain rang elles ne le sont plus. À partir d'un certain rang, il n'y a même plus de décimales non nulles.\n",
    "\n",
    "On explique ce comportement par le fait que les nombres flottants en Python sont représentés avec $64$ bits (un bit vaut $0$ ou $1$) de la manière suivante :\n",
    "\n",
    "<img src=\"https://upload.wikimedia.org/wikipedia/commons/a/a9/IEEE_754_Double_Floating_Point_Format.svg\">\n",
    "\n",
    "* $\\text{sign}$ donne le signe du nombre flottant\n",
    "* $e$ est l'exposant biaisé : $e \\in \\{1, \\ldots, 2046\\}$\n",
    "* $(b_1, \\ldots, b_{52})$ est la mantisse\n",
    "\n",
    "La valeur du nombre flottant est obtenue avec la formule suivante :\n",
    "$$\n",
    "    (-1)^{\\text{sign}}\\left(1 + \\sum_{i=1}^{52} b_{52-i} 2^{-i} \\right)\\times 2^{e-1023}\n",
    "$$\n",
    "\n",
    "L'[epsilon machine](https://fr.wikipedia.org/wiki/Epsilon_d%27une_machine), correspondant à la limite supérieure de l'erreur d'approximation relative causé par l'arrondi des calculs du microprocesseur en arithmétique à virgule flottante, est égal à :\n",
    "$$\n",
    "    \\varepsilon_\\text{machine} = 2^{-52} \\approx 2.22 \\times 10^{-16}\n",
    "$$\n",
    "\n",
    "Avec l'arrondi au plus proche, la précision est\n",
    "$\n",
    "    \\displaystyle\\frac{\\varepsilon_\\text{machine}}{2} = 2^{-53} \\approx 1.11 \\times 10^{-16}\n",
    "$\n",
    "soit environ **15.95 chiffres significatifs** (entre 15 et 17 en pratique)."
   ]
  },
  {
   "cell_type": "markdown",
   "id": "20dc153e",
   "metadata": {},
   "source": [
    "**Question 2 : Exécutez la cellule ci-dessous. Que constatez-vous ? Utilisez la fonction [`format()`](https://docs.python.org/fr/3.13/library/functions.html#format) pour expliquer le résultat obtenu.**"
   ]
  },
  {
   "cell_type": "code",
   "execution_count": 7,
   "id": "65ad749d",
   "metadata": {},
   "outputs": [
    {
     "data": {
      "text/plain": [
       "False"
      ]
     },
     "execution_count": 7,
     "metadata": {},
     "output_type": "execute_result"
    }
   ],
   "source": [
    "0.1 + 0.2 == 0.3"
   ]
  },
  {
   "cell_type": "code",
   "execution_count": 8,
   "id": "a7917a88",
   "metadata": {},
   "outputs": [
    {
     "data": {
      "text/plain": [
       "'0.3000000000000000444089209850062616169452667236328125000000000000'"
      ]
     },
     "execution_count": 8,
     "metadata": {},
     "output_type": "execute_result"
    }
   ],
   "source": [
    "format(0.1 + 0.2, '.64f')"
   ]
  },
  {
   "cell_type": "code",
   "execution_count": 9,
   "id": "563954e4",
   "metadata": {},
   "outputs": [
    {
     "data": {
      "text/plain": [
       "'0.2999999999999999888977697537484345957636833190917968750000000000'"
      ]
     },
     "execution_count": 9,
     "metadata": {},
     "output_type": "execute_result"
    }
   ],
   "source": [
    "format(0.3, '.64f')"
   ]
  },
  {
   "cell_type": "markdown",
   "id": "5df5d38d",
   "metadata": {},
   "source": [
    "**Réponse** : On constate bien que les nombres flottants `0.1 + 0.2` et `0.3` ne sont pas égaux."
   ]
  },
  {
   "cell_type": "markdown",
   "id": "c5187493",
   "metadata": {},
   "source": [
    "## 2. Calcul symbolique\n",
    "\n",
    "Le calcul symbolique fait référence au développement d'algorithmes permettant de manipuler des expressions mathématiques et d'autres objets mathématiques. Le calcul symbolique intègre les mathématiques et l'informatique pour résoudre des expressions mathématiques à l'aide de symboles mathématiques. Un système de calcul formel tel que SymPy évalue les expressions algébriques de manière exacte (et non approximative) à l'aide des mêmes symboles que ceux utilisés dans la méthode manuelle traditionnelle.\n",
    "\n",
    "Le paquet SymPy est installé sous le nom `sympy`.\n",
    "On importe le paquet `sympy` sous l'alias `sp` (convention utilisée par tout le monde).\n",
    "On pourra ensuite utiliser les fonctionnalités du module `sympy` en les précédant par `sp.`"
   ]
  },
  {
   "cell_type": "code",
   "execution_count": 10,
   "id": "25e61008",
   "metadata": {},
   "outputs": [],
   "source": [
    "import sympy as sp"
   ]
  },
  {
   "cell_type": "markdown",
   "id": "6881c300",
   "metadata": {},
   "source": [
    "### 2.1 Définition de variables (symboles)\n",
    "\n",
    "Avant de pouvoir faire quoi que ce soit, il est nécessaire de définir les variables que l'on va utiliser.\n",
    "En SymPy, on ne parle pas de variables mais de **symboles**.\n",
    "On utilise la classe [`sympy.Symbol()`](https://docs.sympy.org/latest/modules/core.html#module-sympy.core.symbol) pour créer des symboles."
   ]
  },
  {
   "cell_type": "code",
   "execution_count": 11,
   "id": "8cf2293d",
   "metadata": {},
   "outputs": [],
   "source": [
    "x = sp.Symbol(\"x\")"
   ]
  },
  {
   "cell_type": "markdown",
   "id": "6b2cc41c",
   "metadata": {},
   "source": [
    "Avec le code ci-dessous, on a effectué plusieurs choses :\n",
    "\n",
    "* À gauche du signe égal, on a défini une variable Python appelée `x`\n",
    "* À droite du signe égal, dans la classe `sympy.Symbol()`, on a fourni en argument la chaîne de caractères `\"x\"` qui indique le nom sous lequel la variable est affichée dans les expressions mathématiques.\n",
    "\n",
    "Pour afficher la représentation d'un symbole, il suffit d'exécuter une cellule où la dernière ligne est la variable Python correspondante :"
   ]
  },
  {
   "cell_type": "code",
   "execution_count": 12,
   "id": "ca367fcf",
   "metadata": {},
   "outputs": [
    {
     "data": {
      "text/latex": [
       "$\\displaystyle x$"
      ],
      "text/plain": [
       "x"
      ]
     },
     "execution_count": 12,
     "metadata": {},
     "output_type": "execute_result"
    }
   ],
   "source": [
    "x"
   ]
  },
  {
   "cell_type": "markdown",
   "id": "14094ab2",
   "metadata": {},
   "source": [
    "On peut rajouter des contraintes sur le symbole, lors de sa création, pour indiquer l'ensemble mathématique auquel la variable appartient :\n",
    "* `real` pour indiquer que la variable est un nombre réel (et pas complexe),\n",
    "* `integer` pour indiquer la variable est un nombre entier,\n",
    "* `positive` pour indiquer que la variable est strictement positive,\n",
    "* `negative` pour indiquer que la variable est strictement négative,\n",
    "* `nonnegative` pour indiquer que la variable est positive ou nulle,\n",
    "* `nonpositive` pour indiquer que la variable est négative ou nulle."
   ]
  },
  {
   "cell_type": "code",
   "execution_count": 13,
   "id": "1222c296",
   "metadata": {},
   "outputs": [],
   "source": [
    "y = sp.Symbol(\"y\", real=True, positive=True)  # y est un réel strictement positif\n",
    "z = sp.Symbol(\"z\", real=True, negative=True)  # z est un réel strictement négatif"
   ]
  },
  {
   "cell_type": "markdown",
   "id": "50e40158",
   "metadata": {},
   "source": [
    "### 2.2 Expressions mathématiques\n",
    "\n",
    "Une fois que l'on a défini des symboles, on peut définir des expressions mathématiques faisant intervenir ces symboles.\n",
    "Pour ce faire, on utilise la même syntaxe que celle utilisée pour les nombres Python :\n",
    "\n",
    "* `+` pour la somme\n",
    "* `-` pour la différence\n",
    "* `*` pour la multiplication\n",
    "* `/` pour la division\n",
    "* `**` pour la puissance\n",
    "\n",
    "Par exemple, maintenant que l'on a défini les symboles `x` et `y`, on peut définir l'expression $x^2 + y^2$ en utilisant la syntaxe Python correspondante :"
   ]
  },
  {
   "cell_type": "code",
   "execution_count": 14,
   "id": "96093ffc",
   "metadata": {},
   "outputs": [
    {
     "data": {
      "text/latex": [
       "$\\displaystyle x^{2} + y^{2}$"
      ],
      "text/plain": [
       "x**2 + y**2"
      ]
     },
     "execution_count": 14,
     "metadata": {},
     "output_type": "execute_result"
    }
   ],
   "source": [
    "expr = x ** 2 + y ** 2\n",
    "expr"
   ]
  },
  {
   "cell_type": "markdown",
   "id": "dd79fb89",
   "metadata": {},
   "source": [
    "### 2.3 Fonctions mathématiques\n",
    "\n",
    "Toutes les fonctions mathématiques *classiques* sont définies dans le module `sympy` :\n",
    "* [`sp.exp()`](https://docs.sympy.org/latest/modules/functions/elementary.html#sympy.functions.elementary.exponential.exp) correspond à la fonction $\\exp$,\n",
    "* [`sp.log()`](https://docs.sympy.org/latest/modules/functions/elementary.html#sympy.functions.elementary.exponential.log) correspond à la fonction $\\ln$,\n",
    "* [`sp.cos()`](https://docs.sympy.org/latest/modules/functions/elementary.html#sympy.functions.elementary.trigonometric.cos) correspond à la fonction $\\cos$,\n",
    "* [`sp.sin()`](https://docs.sympy.org/latest/modules/functions/elementary.html#sympy.functions.elementary.trigonometric.sin) correspond à la fonction $\\sin$,\n",
    "* etc.\n",
    "\n",
    "Vous pouvez bien entendu les utiliser dans les expressions."
   ]
  },
  {
   "cell_type": "code",
   "execution_count": 15,
   "id": "6344a870",
   "metadata": {},
   "outputs": [
    {
     "data": {
      "text/latex": [
       "$\\displaystyle \\sin{\\left(x \\right)} + \\cos{\\left(x \\right)}$"
      ],
      "text/plain": [
       "sin(x) + cos(x)"
      ]
     },
     "execution_count": 15,
     "metadata": {},
     "output_type": "execute_result"
    }
   ],
   "source": [
    "sp.cos(x) + sp.sin(x)"
   ]
  },
  {
   "cell_type": "markdown",
   "id": "5d25c1e1",
   "metadata": {},
   "source": [
    "### 2.4 Substitutions\n",
    "\n",
    "Le principe de substitution est de remplacer une ou plusieurs variables par une ou plusieurs autres variables.\n",
    "On le fait avec la méthode [`.subs()`](https://docs.sympy.org/latest/modules/core.html#sympy.core.basic.Basic.subs)."
   ]
  },
  {
   "cell_type": "code",
   "execution_count": 16,
   "id": "c285c628",
   "metadata": {},
   "outputs": [
    {
     "data": {
      "text/latex": [
       "$\\displaystyle 2 y^{2}$"
      ],
      "text/plain": [
       "2*y**2"
      ]
     },
     "execution_count": 16,
     "metadata": {},
     "output_type": "execute_result"
    }
   ],
   "source": [
    "expr.subs(x, y)  # on remplace x par y dans expr"
   ]
  },
  {
   "cell_type": "code",
   "execution_count": 17,
   "id": "05983fe3",
   "metadata": {},
   "outputs": [
    {
     "data": {
      "text/latex": [
       "$\\displaystyle z^{4} + z^{2}$"
      ],
      "text/plain": [
       "z**4 + z**2"
      ]
     },
     "execution_count": 17,
     "metadata": {},
     "output_type": "execute_result"
    }
   ],
   "source": [
    "expr.subs({x: z ** 2, y: z})  # on remplace x par z ** 2 et y par z dans expr"
   ]
  },
  {
   "cell_type": "markdown",
   "id": "1bd104f0",
   "metadata": {},
   "source": [
    "### 2.5 Simplification d'expressions\n",
    "\n",
    "Pour simplifier des expressions, on utilise la fonction [`sympy.simplify()`](https://docs.sympy.org/latest/modules/simplify/simplify.html#sympy.simplify.simplify.simplify)."
   ]
  },
  {
   "cell_type": "code",
   "execution_count": 18,
   "id": "aebcac66",
   "metadata": {},
   "outputs": [
    {
     "data": {
      "text/latex": [
       "$\\displaystyle 1$"
      ],
      "text/plain": [
       "1"
      ]
     },
     "execution_count": 18,
     "metadata": {},
     "output_type": "execute_result"
    }
   ],
   "source": [
    "sp.simplify(sp.cos(x) ** 2 + sp.sin(x) ** 2)"
   ]
  },
  {
   "cell_type": "markdown",
   "id": "2f9258d3",
   "metadata": {},
   "source": [
    "### 2.6 Développement et factorisation d'expressions\n",
    "\n",
    "\n",
    "* Pour développer des expressions, on utilise la fonction [`sympy.expand()`](https://docs.sympy.org/latest/modules/core.html#sympy.core.function.expand).\n",
    "* Pour factoriser des expressions, on utilise la fonction [`sympy.factor()`](https://docs.sympy.org/latest/modules/polys/reference.html#sympy.polys.polytools.factor)."
   ]
  },
  {
   "cell_type": "code",
   "execution_count": 19,
   "id": "4a2b646f",
   "metadata": {},
   "outputs": [
    {
     "data": {
      "text/latex": [
       "$\\displaystyle x^{3} - 6 x^{2} + 12 x - 8$"
      ],
      "text/plain": [
       "x**3 - 6*x**2 + 12*x - 8"
      ]
     },
     "execution_count": 19,
     "metadata": {},
     "output_type": "execute_result"
    }
   ],
   "source": [
    "sp.expand((x - 2) ** 3)"
   ]
  },
  {
   "cell_type": "code",
   "execution_count": 20,
   "id": "033aefa2",
   "metadata": {},
   "outputs": [
    {
     "data": {
      "text/latex": [
       "$\\displaystyle \\left(x - 2\\right) \\left(x + 2\\right)$"
      ],
      "text/plain": [
       "(x - 2)*(x + 2)"
      ]
     },
     "execution_count": 20,
     "metadata": {},
     "output_type": "execute_result"
    }
   ],
   "source": [
    "sp.factor(x ** 2 - 4)"
   ]
  },
  {
   "cell_type": "markdown",
   "id": "0c0460b9",
   "metadata": {},
   "source": [
    "### 2.7 Affichage de la courbe d'une fonction\n",
    "\n",
    "Pour afficher la courbe d'une fonction, on utilise la fonction [`sympy.plot()`](https://docs.sympy.org/latest/modules/plotting.html)."
   ]
  },
  {
   "cell_type": "code",
   "execution_count": 21,
   "id": "8260889b",
   "metadata": {},
   "outputs": [
    {
     "data": {
      "image/png": "[encoded data removed]",
      "text/plain": [
       "<Figure size 640x480 with 1 Axes>"
      ]
     },
     "metadata": {},
     "output_type": "display_data"
    }
   ],
   "source": [
    "sp.plot(x ** 2, (x, -3, 4));"
   ]
  },
  {
   "cell_type": "markdown",
   "id": "bcccb9d5",
   "metadata": {},
   "source": [
    "### 2.8 Résolution d'une équation\n",
    "\n",
    "Pour résoudre l'équation `expr == 0`, on utilise la fonction [`sympy.solve()`](https://docs.sympy.org/latest/modules/solvers/solvers.html#sympy.solvers.solvers.solve).\n",
    "Remarquez que SymPy prend en compte l'ensemble de définitions des symboles et renvoie des résultats différents en fonction des symboles utilisés."
   ]
  },
  {
   "cell_type": "code",
   "execution_count": 22,
   "id": "fa31bbd8",
   "metadata": {},
   "outputs": [
    {
     "data": {
      "text/plain": [
       "[-2, 2]"
      ]
     },
     "execution_count": 22,
     "metadata": {},
     "output_type": "execute_result"
    }
   ],
   "source": [
    "sp.solve(x ** 2 - 4, x)  # Le x indique qu'on résoud l'équation par rapport à x"
   ]
  },
  {
   "cell_type": "code",
   "execution_count": 23,
   "id": "13f76b1a",
   "metadata": {},
   "outputs": [
    {
     "data": {
      "text/plain": [
       "[2]"
      ]
     },
     "execution_count": 23,
     "metadata": {},
     "output_type": "execute_result"
    }
   ],
   "source": [
    "sp.solve(y ** 2 - 4, y)"
   ]
  },
  {
   "cell_type": "code",
   "execution_count": 24,
   "id": "45d98aa2",
   "metadata": {},
   "outputs": [
    {
     "data": {
      "text/plain": [
       "[-2]"
      ]
     },
     "execution_count": 24,
     "metadata": {},
     "output_type": "execute_result"
    }
   ],
   "source": [
    "sp.solve(z ** 2 - 4, z)"
   ]
  },
  {
   "cell_type": "code",
   "execution_count": 25,
   "id": "e6876622",
   "metadata": {},
   "outputs": [
    {
     "data": {
      "text/plain": [
       "[-sqrt(z), sqrt(z)]"
      ]
     },
     "execution_count": 25,
     "metadata": {},
     "output_type": "execute_result"
    }
   ],
   "source": [
    "sp.solve(x ** 2 - z, x)"
   ]
  },
  {
   "cell_type": "code",
   "execution_count": 26,
   "id": "4903d31f",
   "metadata": {},
   "outputs": [
    {
     "data": {
      "text/plain": [
       "[-sqrt(-z), sqrt(-z)]"
      ]
     },
     "execution_count": 26,
     "metadata": {},
     "output_type": "execute_result"
    }
   ],
   "source": [
    "sp.solve(x ** 2 + z, x)"
   ]
  },
  {
   "cell_type": "code",
   "execution_count": 27,
   "id": "e5565aa2",
   "metadata": {},
   "outputs": [
    {
     "data": {
      "text/plain": [
       "[]"
      ]
     },
     "execution_count": 27,
     "metadata": {},
     "output_type": "execute_result"
    }
   ],
   "source": [
    "sp.solve(y ** 2 - z, y)"
   ]
  },
  {
   "cell_type": "code",
   "execution_count": 28,
   "id": "e18df7ed",
   "metadata": {},
   "outputs": [
    {
     "data": {
      "text/plain": [
       "[sqrt(-z)]"
      ]
     },
     "execution_count": 28,
     "metadata": {},
     "output_type": "execute_result"
    }
   ],
   "source": [
    "sp.solve(y ** 2 + z, y)"
   ]
  },
  {
   "cell_type": "markdown",
   "id": "152a09d0",
   "metadata": {},
   "source": [
    "### 2.9 Résolution d'un système d'équations\n",
    "\n",
    "Pour résoudre un système d'équations, on utilise également la fonction [`sympy.solve()`](https://docs.sympy.org/latest/modules/solvers/solvers.html#sympy.solvers.solvers.solve), mais en fournissant une liste d'expressions (représentant le système d'équations) et une liste de symboles (représentant les variables) en arguments :"
   ]
  },
  {
   "cell_type": "code",
   "execution_count": 29,
   "id": "51d96932",
   "metadata": {},
   "outputs": [
    {
     "data": {
      "text/plain": [
       "{x: 0, y: 3}"
      ]
     },
     "execution_count": 29,
     "metadata": {},
     "output_type": "execute_result"
    }
   ],
   "source": [
    "sp.solve([x + y - 3, x - y + 3], [x, y])"
   ]
  },
  {
   "cell_type": "markdown",
   "id": "cd7e638c",
   "metadata": {},
   "source": [
    "### 2.10 Évaluation approximative d'une expression\n",
    "\n",
    "Pour obtenir l'évaluation approximative d'une expression, on utilise la méthode [`.evalf()`](https://docs.sympy.org/latest/modules/core.html#module-sympy.core.evalf) :"
   ]
  },
  {
   "cell_type": "code",
   "execution_count": 30,
   "id": "615fd256",
   "metadata": {},
   "outputs": [
    {
     "data": {
      "text/latex": [
       "$\\displaystyle 2.46740110027234$"
      ],
      "text/plain": [
       "2.46740110027234"
      ]
     },
     "execution_count": 30,
     "metadata": {},
     "output_type": "execute_result"
    }
   ],
   "source": [
    "(sp.pi ** 2 / 4).evalf()"
   ]
  },
  {
   "cell_type": "markdown",
   "id": "f2a0953a",
   "metadata": {},
   "source": [
    "### 2.11 Dérivée d'une expression\n",
    "\n",
    "Pour calculer la dérivée d'une expression, on utilise la fonction [`sympy.diff()`](https://docs.sympy.org/latest/modules/core.html#sympy.core.function.diff)."
   ]
  },
  {
   "cell_type": "code",
   "execution_count": 31,
   "id": "9b4838b2",
   "metadata": {},
   "outputs": [
    {
     "data": {
      "text/latex": [
       "$\\displaystyle - 2 \\sin{\\left(x \\right)} \\cos{\\left(x \\right)} + \\cos{\\left(x \\right)}$"
      ],
      "text/plain": [
       "-2*sin(x)*cos(x) + cos(x)"
      ]
     },
     "execution_count": 31,
     "metadata": {},
     "output_type": "execute_result"
    }
   ],
   "source": [
    "sp.diff(sp.cos(x) ** 2 + sp.sin(x), x)"
   ]
  },
  {
   "cell_type": "markdown",
   "id": "58228d78",
   "metadata": {},
   "source": [
    "### 2.12 Primitive d'une expression\n",
    "\n",
    "Pour calculer une primitive d'une expression, on utilise la fonction [`sympy.integrate()`](https://docs.sympy.org/latest/modules/integrals/integrals.html)."
   ]
  },
  {
   "cell_type": "code",
   "execution_count": 32,
   "id": "f4c3f036",
   "metadata": {},
   "outputs": [
    {
     "data": {
      "text/latex": [
       "$\\displaystyle - \\sin^{2}{\\left(x \\right)} + \\sin{\\left(x \\right)}$"
      ],
      "text/plain": [
       "-sin(x)**2 + sin(x)"
      ]
     },
     "execution_count": 32,
     "metadata": {},
     "output_type": "execute_result"
    }
   ],
   "source": [
    "sp.integrate(- 2 * sp.sin(x) * sp.cos(x) + sp.cos(x), x)"
   ]
  },
  {
   "cell_type": "markdown",
   "id": "34571ad8",
   "metadata": {},
   "source": [
    "### 2.13 Limites d'une expression\n",
    "\n",
    "Pour calculer la limite d'une expression en un point donné, on utilise la fonction [`sympy.limit()`](https://docs.sympy.org/latest/modules/series/series.html#sympy.series.limits.limit)."
   ]
  },
  {
   "cell_type": "code",
   "execution_count": 33,
   "id": "e49628f6",
   "metadata": {},
   "outputs": [
    {
     "data": {
      "text/latex": [
       "$\\displaystyle \\infty$"
      ],
      "text/plain": [
       "oo"
      ]
     },
     "execution_count": 33,
     "metadata": {},
     "output_type": "execute_result"
    }
   ],
   "source": [
    "sp.limit(1 / x, x, 0, '+')"
   ]
  },
  {
   "cell_type": "code",
   "execution_count": 34,
   "id": "79baf908",
   "metadata": {},
   "outputs": [
    {
     "data": {
      "text/latex": [
       "$\\displaystyle -\\infty$"
      ],
      "text/plain": [
       "-oo"
      ]
     },
     "execution_count": 34,
     "metadata": {},
     "output_type": "execute_result"
    }
   ],
   "source": [
    "sp.limit(1 / x, x, 0, '-')"
   ]
  },
  {
   "cell_type": "markdown",
   "id": "28787885",
   "metadata": {},
   "source": [
    "### 2.14 Intégrales\n",
    "\n",
    "* L'infini ($\\infty$) est représenté par `sympy.oo`.\n",
    "* Pour calculer des intégrales, on utilise également la fonction [`sympy.integrate()`](https://docs.sympy.org/latest/modules/integrals/integrals.html)."
   ]
  },
  {
   "cell_type": "code",
   "execution_count": 35,
   "id": "c880b840",
   "metadata": {},
   "outputs": [
    {
     "data": {
      "text/latex": [
       "$\\displaystyle 1$"
      ],
      "text/plain": [
       "1"
      ]
     },
     "execution_count": 35,
     "metadata": {},
     "output_type": "execute_result"
    }
   ],
   "source": [
    "sp.integrate(sp.exp(-x), (x, 0, sp.oo))"
   ]
  },
  {
   "cell_type": "code",
   "execution_count": 36,
   "id": "4aae82ef",
   "metadata": {},
   "outputs": [
    {
     "data": {
      "text/latex": [
       "$\\displaystyle \\frac{\\pi}{2}$"
      ],
      "text/plain": [
       "pi/2"
      ]
     },
     "execution_count": 36,
     "metadata": {},
     "output_type": "execute_result"
    }
   ],
   "source": [
    "sp.integrate(sp.sin(x) / x, (x, 0, sp.oo))"
   ]
  },
  {
   "cell_type": "code",
   "execution_count": 37,
   "id": "5514c568",
   "metadata": {},
   "outputs": [
    {
     "data": {
      "text/latex": [
       "$\\displaystyle - e^{- z} + e^{- y}$"
      ],
      "text/plain": [
       "-exp(-z) + exp(-y)"
      ]
     },
     "execution_count": 37,
     "metadata": {},
     "output_type": "execute_result"
    }
   ],
   "source": [
    "sp.integrate(sp.exp(-x), (x, y, z))"
   ]
  },
  {
   "cell_type": "markdown",
   "id": "3f35ebd2",
   "metadata": {},
   "source": [
    "### 2.15 Parties réelles et imaginaires de nombres complexes\n",
    "\n",
    "* Le nombre complexe $i$ est représenté par `sympy.I`.\n",
    "* Pour obtenir la partie réelle d'un nombre complexe, on utilise la fonction [`sympy.re()`](https://docs.sympy.org/latest/modules/functions/elementary.html#sympy.functions.elementary.complexes.re).\n",
    "* Pour obtenir la partie imaginaire d'un nombre complexe, on utilise la fonction [`sympy.im()`](https://docs.sympy.org/latest/modules/functions/elementary.html#sympy.functions.elementary.complexes.im).\n",
    "* Pour obtenir les parties réelle et imaginaire d'un nombre complexe, on peut utiliser la méthode [`.as_real_imag()`](https://docs.sympy.org/latest/modules/core.html#sympy.core.expr.Expr.as_real_imag)."
   ]
  },
  {
   "cell_type": "code",
   "execution_count": 38,
   "id": "eaa6530a",
   "metadata": {},
   "outputs": [
    {
     "data": {
      "text/latex": [
       "$\\displaystyle \\frac{\\left(1 - i\\right)^{20} \\left(1 + \\sqrt{3} i\\right)^{20}}{1048576}$"
      ],
      "text/plain": [
       "(1 - I)**20*(1 + sqrt(3)*I)**20/1048576"
      ]
     },
     "execution_count": 38,
     "metadata": {},
     "output_type": "execute_result"
    }
   ],
   "source": [
    "expr = ((1 + sp.I * sp.sqrt(3)) / (1 + sp.I)) ** 20\n",
    "expr"
   ]
  },
  {
   "cell_type": "code",
   "execution_count": 39,
   "id": "b924a555",
   "metadata": {},
   "outputs": [
    {
     "data": {
      "text/latex": [
       "$\\displaystyle 512$"
      ],
      "text/plain": [
       "512"
      ]
     },
     "execution_count": 39,
     "metadata": {},
     "output_type": "execute_result"
    }
   ],
   "source": [
    "sp.re(expr)"
   ]
  },
  {
   "cell_type": "code",
   "execution_count": 40,
   "id": "15f617f3",
   "metadata": {},
   "outputs": [
    {
     "data": {
      "text/latex": [
       "$\\displaystyle - 512 \\sqrt{3}$"
      ],
      "text/plain": [
       "-512*sqrt(3)"
      ]
     },
     "execution_count": 40,
     "metadata": {},
     "output_type": "execute_result"
    }
   ],
   "source": [
    "sp.im(expr)"
   ]
  },
  {
   "cell_type": "code",
   "execution_count": 41,
   "id": "6d4a9b9e",
   "metadata": {},
   "outputs": [
    {
     "data": {
      "text/plain": [
       "(512, -512*sqrt(3))"
      ]
     },
     "execution_count": 41,
     "metadata": {},
     "output_type": "execute_result"
    }
   ],
   "source": [
    "expr.as_real_imag()"
   ]
  },
  {
   "cell_type": "markdown",
   "id": "5dccfa64",
   "metadata": {},
   "source": [
    "### 2.16 Équations différentielles\n",
    "\n",
    "Pour résoudre des équations différentielles, on utilise la classe [`sympy.Function()`](https://docs.sympy.org/latest/modules/core.html#sympy.core.function.Function) pour définir une fonction et la fonction [`sympy.dsolve()`](https://docs.sympy.org/latest/modules/solvers/ode.html#sympy.solvers.ode.dsolve) pour résoudre l'équation différentielle.\n",
    "\n",
    "Par exemple, pour résoudre l'équation différentielle :\n",
    "$$\n",
    "    \\forall x \\in \\mathbb{R}, \\; f'(x) = f(x)\n",
    "$$"
   ]
  },
  {
   "cell_type": "code",
   "execution_count": 42,
   "id": "46a6654e",
   "metadata": {},
   "outputs": [
    {
     "data": {
      "text/latex": [
       "$\\displaystyle f{\\left(x \\right)} = C_{1} e^{x}$"
      ],
      "text/plain": [
       "Eq(f(x), C1*exp(x))"
      ]
     },
     "execution_count": 42,
     "metadata": {},
     "output_type": "execute_result"
    }
   ],
   "source": [
    "f = sp.Function('f')\n",
    "sp.dsolve(sp.diff(f(x), x) - f(x), f(x))"
   ]
  },
  {
   "cell_type": "markdown",
   "id": "a2dd4fd9",
   "metadata": {},
   "source": [
    "## 3. Exercices"
   ]
  },
  {
   "cell_type": "markdown",
   "id": "3ba5b01d",
   "metadata": {},
   "source": [
    "### Exercice 1\n",
    "\n",
    "Déterminez la relation entre la hauteur $h$ et le rayon $r$ d'un cylindre de manière à minimiser son aire à volume fixé."
   ]
  },
  {
   "cell_type": "markdown",
   "id": "0e68e7ca",
   "metadata": {},
   "source": [
    "**Réponse théorique** :\n",
    "\n",
    "* Le volume $V$ du cylindre est :\n",
    "$$\n",
    "    V = \\pi r^2 h\n",
    "$$\n",
    "* L'aire $A$ du cylindre est :\n",
    "$$\n",
    "    A = 2 \\pi r^2 + 2 \\pi r h\n",
    "$$\n",
    "\n",
    "* On utilise le fait que le volume est fixé pour exprimer la hauteur en fonction du volume et du rayon :\n",
    "$$\n",
    "    h = \\frac{V}{\\pi r^2}\n",
    "$$\n",
    "\n",
    "* On remplace $h$ par sa nouvelle valeur dans l'équation de l'aire du cylindre :\n",
    "$$\n",
    "    A(r) = 2 \\pi r^2 + 2 \\pi r h \\frac{V}{\\pi r^2} = 2 \\pi r^2 + 2 \\frac{V}{r}\n",
    "$$\n",
    "\n",
    "* On constate le comportement suivant aux limites $0$ et $+\\infty$ :\n",
    "$$\n",
    "    \\lim_{r \\to 0} A(r) = +\\infty \\qquad\\text{et}\\qquad \\lim_{r \\to +\\infty} A(r) = +\\infty\n",
    "$$\n",
    "\n",
    "* On calcule la dérivée de $A$ :\n",
    "$$\n",
    "\\frac{\\mathrm{d}A}{\\mathrm{d}r}(r) = 4 \\pi r - 2 \\frac{V}{r^2}\n",
    "$$\n",
    "\n",
    "* On en déduit le signe de la dérivée :\n",
    "$$\n",
    "    \\frac{\\mathrm{d}A}{\\mathrm{d}r} \\geq 0 \n",
    "    \\Longleftrightarrow r^2 \\frac{\\mathrm{d}A}{\\mathrm{d}r} \\geq 0\n",
    "    \\Longleftrightarrow 4 \\pi r^3 - 2 V \\geq 0\n",
    "    \\Longleftrightarrow r \\geq \\sqrt[3]{\\frac{V}{2 \\pi}}\n",
    "$$\n",
    "\n",
    "* La fonction $A$ est donc strictement décroissante sur $\\displaystyle \\left] 0, \\sqrt[3]{\\frac{V}{2 \\pi}} \\right[$ et strictement croissante sur $\\displaystyle \\left] \\sqrt[3]{\\frac{V}{2 \\pi}}, +\\infty \\right[$. Elle atteint donc son minimum en :\n",
    "$$\n",
    "    r = \\sqrt[3]{\\frac{V}{2 \\pi}}\n",
    "$$\n",
    "\n",
    "* On remplace $V$ par sa valeur :\n",
    "$$\n",
    "    r = \\sqrt[3]{\\frac{\\pi r^2 h}{2 \\pi}}\n",
    "$$\n",
    "\n",
    "* On simplifie l'expression pour isoler $r$ dans le membre de gauche et $h$ dans le membre de droite :\n",
    "$$\n",
    "    r = \\sqrt[3]{\\frac{\\pi r^2 h}{2 \\pi}}\n",
    "    \\Longleftrightarrow r^3 = \\frac{\\pi r^2 h}{2 \\pi}\n",
    "    \\Longleftrightarrow r = \\frac{h}{2}\n",
    "$$\n",
    "\n",
    "\n",
    "**Réponse avec SymPy** :"
   ]
  },
  {
   "cell_type": "code",
   "execution_count": 43,
   "id": "aecd3988",
   "metadata": {},
   "outputs": [
    {
     "name": "stdout",
     "output_type": "stream",
     "text": [
      "r = h/2\n"
     ]
    }
   ],
   "source": [
    "# Définitions des variables\n",
    "r = sp.Symbol(\"r\", real=True, positive=True)\n",
    "h = sp.Symbol(\"h\", real=True, positive=True)\n",
    "V = sp.Symbol(\"V\", real=True, positive=True)\n",
    "\n",
    "# Définition des formules de l'aire et du volume\n",
    "A_formule = 2 * sp.pi * (r ** 2) + 2 * sp.pi * r * h\n",
    "V_formule = sp.pi * (r ** 2) * h\n",
    "\n",
    "# On exprime h en fonction de r et de V en résolvant l'équation V_formule = V\n",
    "h_opt = sp.solve(V_formule - V, h)[0]\n",
    "\n",
    "# On remplace h par sa nouvelle valeur dans la formule de l'aire\n",
    "A_formule = A_formule.subs(h, h_opt)\n",
    "\n",
    "# On détermine quand l'expression A_formule est minimale en cherchant quand sa dérivée est nulle\n",
    "r_opt = sp.solve(sp.diff(A_formule, r), r)[0]\n",
    "\n",
    "# On remplace V par sa formule dans r_opt\n",
    "r_opt = r_opt.subs(V, V_formule)\n",
    "\n",
    "# On résoud l'équation r_opt = r\n",
    "r_opt = sp.solve(r_opt - r, r)[0]\n",
    "\n",
    "# On affiche le résultat\n",
    "print(f\"r = {r_opt}\")"
   ]
  },
  {
   "cell_type": "markdown",
   "id": "71aabcde",
   "metadata": {},
   "source": [
    "### Exercice 2\n",
    "\n",
    "*Cet exercice correspond à un exercice typique de probabilités de l'épreuve de spécialité mathématiques du baccalauréat général. Il est tombé au baccalauréat Asie de 2024. Le sujet complet peut être téléchargé [ici](https://www.education.gouv.fr/media/195452/download). \n",
    "**La première partie a été ajoutée pour faire davantage de programmation en Python**.*\n",
    "\n",
    "*Léa passe une bonne partie de ses journées à jouer à un jeu vidéo et s’intéresse aux chances de victoire de ses prochaines parties.\n",
    "Elle estime que si elle vient de gagner une partie, elle gagne la suivante dans 70% des cas.\n",
    "Mais si elle vient de subir une défaite, d’après elle, la probabilité qu’elle gagne la suivante\n",
    "est de 0,2.\n",
    "De plus, elle pense avoir autant de chance de gagner la première partie que de la perdre.*\n",
    "\n",
    "On s’appuiera sur les affirmations de Léa pour répondre aux questions de cet exercice.\n",
    "\n",
    "Pour tout entier naturel $n$ non nul, on définit les événements suivants :\n",
    "\n",
    "* $G_n$ : « Léa gagne la $n$-ième partie de la journée » ;\n",
    "* $D_n$ : « Léa perd la 𝑛-ième partie de la journée ».\n",
    "\n",
    "Pour tout entier naturel $n$ non nul, on note $g_n$ la probabilité de l’événement $G_n$.\n",
    "On a donc $g_1 = 0,5$.\n",
    "\n",
    "**Partie A : Analyse empirique du problème**\n",
    "\n",
    "Sans perdre de généralité, **on représente une victoire par un $1$ et une défaite par un $0$**.\n",
    "On utilise la fonction [`random.choices()`](https://docs.python.org/fr/3.13/library/random.html#random.choices) pour générer des variables aléatoires réelles.\n",
    "\n",
    "**Question 1** : En regardant la documentation de cette fonction et les exemples ci-dessous, déterminer comment on va pouvoir simuler les parties de Léa."
   ]
  },
  {
   "cell_type": "code",
   "execution_count": 44,
   "id": "ad2415d9",
   "metadata": {},
   "outputs": [
    {
     "data": {
      "text/plain": [
       "0"
      ]
     },
     "execution_count": 44,
     "metadata": {},
     "output_type": "execute_result"
    }
   ],
   "source": [
    "import random\n",
    "\n",
    "random.choices(population=[0, 1], weights=[0.3, 0.7], k=1)[0]"
   ]
  },
  {
   "cell_type": "code",
   "execution_count": 45,
   "id": "431229c9",
   "metadata": {},
   "outputs": [
    {
     "data": {
      "text/plain": [
       "0"
      ]
     },
     "execution_count": 45,
     "metadata": {},
     "output_type": "execute_result"
    }
   ],
   "source": [
    "random.choices(population=[0, 1], weights=[0.8, 0.2], k=1)[0]"
   ]
  },
  {
   "cell_type": "markdown",
   "id": "dbba27ee",
   "metadata": {},
   "source": [
    "**Réponse** :\n",
    "* L'argument `population` indique l'ensemble des valeurs parmi lesquelles tirer.\n",
    "* L'argument `weights` indique la probabilité de chaque élément de la population d'être tiré.\n",
    "* L'argument `k` correspond au nombre de tirages effectués."
   ]
  },
  {
   "cell_type": "markdown",
   "id": "91f32229",
   "metadata": {},
   "source": [
    "**Question 2** : Copier et compléter le code manquant dans la fonction `simuler_partie_suivante(partie_precedente)`, qui simule le résultat de la partie suivante sachant le résultat de la partie précédente :\n",
    "\n",
    "```python\n",
    "def simuler_partie_suivante(partie_precedente):\n",
    "    if ...:\n",
    "        weights = ...\n",
    "    else:\n",
    "        weights = ...\n",
    "    return random.choices(population=[0, 1], weights=weights, k=1)[0]\n",
    "```"
   ]
  },
  {
   "cell_type": "markdown",
   "id": "99726bd2",
   "metadata": {},
   "source": [
    "**Réponse** :"
   ]
  },
  {
   "cell_type": "code",
   "execution_count": 46,
   "id": "16e75210",
   "metadata": {},
   "outputs": [],
   "source": [
    "def simuler_partie_suivante(partie_precedente):\n",
    "    if partie_precedente == 0:\n",
    "        weights = [0.8, 0.2]\n",
    "    else:\n",
    "        weights = [0.3, 0.7]\n",
    "    return random.choices(population=[0, 1], weights=weights, k=1)[0]"
   ]
  },
  {
   "cell_type": "markdown",
   "id": "552b8819",
   "metadata": {},
   "source": [
    "**Question 3** : Copier et compléter le code manquant dans la fonction `simuler_parties(n)`, qui simule le résultat des $n$ premières parties de Léa. On supposera que $n$ est un entier naturel supérieur ou égal à 1.\n",
    "\n",
    "```python\n",
    "def simuler_parties(n):\n",
    "    # On sauvegarde tous les résultats dans une liste\n",
    "    res = []\n",
    "    \n",
    "    # On simule la première partie\n",
    "    premiere_partie = ...\n",
    "    \n",
    "    # On ajoute le résultat de la première partie à la liste\n",
    "    res.append(premiere_partie)\n",
    "    \n",
    "    # Pour chaque partie suivante\n",
    "    for _ in range(n - 1):\n",
    "        \n",
    "        # On récupère le résultat de la dernière partie\n",
    "        partie_precedente = res[-1]\n",
    "        \n",
    "        # On simule la partie suivante\n",
    "        partie_suivante = ...\n",
    "        \n",
    "        # On ajoute le résultat de la partie suivante à la liste\n",
    "        res.append(partie_suivante)\n",
    "        \n",
    "    # On renvoie la liste des résultats\n",
    "    return res\n",
    "```"
   ]
  },
  {
   "cell_type": "markdown",
   "id": "eee536e3",
   "metadata": {},
   "source": [
    "**Réponse** :"
   ]
  },
  {
   "cell_type": "code",
   "execution_count": 47,
   "id": "8fd8dcf0",
   "metadata": {},
   "outputs": [],
   "source": [
    "def simuler_parties(n):\n",
    "    # On sauvegarde tous les résultats dans une liste\n",
    "    res = []\n",
    "    \n",
    "    # On simule la première partie\n",
    "    premiere_partie = random.choices(population=[0, 1], weights=[0.5, 0.5], k=1)[0]\n",
    "    \n",
    "    # On ajoute le résultat de la première partie à la liste\n",
    "    res.append(premiere_partie)\n",
    "    \n",
    "    # Pour chaque partie suivante\n",
    "    for _ in range(n - 1):\n",
    "        \n",
    "        # On récupère le résultat de la dernière partie\n",
    "        partie_precedente = res[-1]\n",
    "        \n",
    "        # On simule la partie suivante\n",
    "        partie_suivante = simuler_partie_suivante(partie_precedente)\n",
    "        \n",
    "        # On ajoute le résultat de la partie suivante à la liste\n",
    "        res.append(partie_suivante)\n",
    "        \n",
    "    # On renvoie la liste des résultats\n",
    "    return res"
   ]
  },
  {
   "cell_type": "markdown",
   "id": "b4c54063",
   "metadata": {},
   "source": [
    "**Question 4** : Copier et compléter le code manquant dans la fonction `simuler_journees(k, n)`, qui simule les résultats des $n$ premières parties de Léa sur $k$ jours. On supposera que $k$ et $n$ sont des entiers naturels supérieurs ou égaux à 1.\n",
    "\n",
    "```python\n",
    "import numpy as np\n",
    "\n",
    "def simuler_journees(k, n):\n",
    "    # Sauvegarder les résultats dans une liste\n",
    "    res = []\n",
    "\n",
    "    # Pour chaque jour\n",
    "    for _ in range(k):\n",
    "\n",
    "        # Simuler les parties de la journée\n",
    "        journee = ...\n",
    "        \n",
    "        # Ajouter les résultats à la liste\n",
    "        res.append(journee)\n",
    "\n",
    "    # Renvoyer la liste sous la forme d'un tableau NumPy\n",
    "    return np.array(res)\n",
    "```"
   ]
  },
  {
   "cell_type": "markdown",
   "id": "6667b64b",
   "metadata": {},
   "source": [
    "**Réponse** :"
   ]
  },
  {
   "cell_type": "code",
   "execution_count": 48,
   "id": "ad8cbe36",
   "metadata": {},
   "outputs": [],
   "source": [
    "import numpy as np\n",
    "\n",
    "def simuler_journees(k, n):\n",
    "    # Sauvegarder les résultats dans une liste\n",
    "    res = []\n",
    "\n",
    "    # Pour chaque jour\n",
    "    for _ in range(k):\n",
    "\n",
    "        # Simuler les parties de la journée\n",
    "        journee = simuler_parties(n)\n",
    "        \n",
    "        # Ajouter les résultats à la liste\n",
    "        res.append(journee)\n",
    "\n",
    "    # Renvoyer la liste sous la forme d'un tableau NumPy\n",
    "    return np.array(res)"
   ]
  },
  {
   "cell_type": "markdown",
   "id": "afb461c5",
   "metadata": {},
   "source": [
    "On récupére les résultats de Léa pour $10\\,000$ journées avec $100$ parties par jour."
   ]
  },
  {
   "cell_type": "code",
   "execution_count": 49,
   "id": "bd2d76c8",
   "metadata": {},
   "outputs": [],
   "source": [
    "res = simuler_journees(k=10_000, n=100)"
   ]
  },
  {
   "cell_type": "markdown",
   "id": "23f69110",
   "metadata": {},
   "source": [
    "`res` est un tableau NumPy, qui est un outil efficace pour représenter des données tabulaires numériques. Ici, `res` est une matrice :\n",
    "\n",
    "* La ligne $n$ représente toutes les parties de la $n$-ième journée.\n",
    "* La colonne $n$ représente toutes les $n$-ième parties sur les différentes journées.\n",
    "\n",
    "On commence à compter à partir de 0 en Python. Par exemple :\n",
    "* `res[0]` est la première ligne de la matrice, ce qui donne les résultats de toutes les parties de la première journée.\n",
    "* `res[:, 0]` est la première colonne de la matrice, ce qui donne les résultats des premières parties sur toutes les journées.\n",
    "\n",
    "La méthode [`.mean()`](https://numpy.org/doc/stable/reference/generated/numpy.mean.html) permet de calculer la valeur moyenne d'un tableau NumPy."
   ]
  },
  {
   "cell_type": "markdown",
   "id": "234e6db4",
   "metadata": {},
   "source": [
    "On calcule la proportion de victoires à la deuxième partie sachant que Léa a gagné la première partie : "
   ]
  },
  {
   "cell_type": "code",
   "execution_count": 50,
   "id": "0b5bacf0",
   "metadata": {},
   "outputs": [
    {
     "data": {
      "text/plain": [
       "0.7005615724027277"
      ]
     },
     "execution_count": 50,
     "metadata": {},
     "output_type": "execute_result"
    }
   ],
   "source": [
    "res[res[:, 0] == 1, 1].mean()"
   ]
  },
  {
   "cell_type": "markdown",
   "id": "c11b7e48",
   "metadata": {},
   "source": [
    "On calcule la proportion de victoires de Léa à la deuxième partie :"
   ]
  },
  {
   "cell_type": "code",
   "execution_count": 51,
   "id": "73b0ef4b",
   "metadata": {},
   "outputs": [
    {
     "data": {
      "text/plain": [
       "0.4482"
      ]
     },
     "execution_count": 51,
     "metadata": {},
     "output_type": "execute_result"
    }
   ],
   "source": [
    "res[:, 1].mean()"
   ]
  },
  {
   "cell_type": "markdown",
   "id": "6e53b375",
   "metadata": {},
   "source": [
    "On calcule la proportion de victoires de Léa à la dernière partie :"
   ]
  },
  {
   "cell_type": "code",
   "execution_count": 52,
   "id": "c9a29826",
   "metadata": {},
   "outputs": [
    {
     "data": {
      "text/plain": [
       "0.3982"
      ]
     },
     "execution_count": 52,
     "metadata": {},
     "output_type": "execute_result"
    }
   ],
   "source": [
    "res[:, -1].mean()"
   ]
  },
  {
   "cell_type": "markdown",
   "id": "d4f8b768",
   "metadata": {},
   "source": [
    "**Partie B : Analyse théorique du problème**\n",
    "\n",
    "**Question 1** : Quelle est la valeur de la probabilité conditionnelle $P_{G_{1}}(D_2)$ ?"
   ]
  },
  {
   "cell_type": "markdown",
   "id": "f6dc0283",
   "metadata": {},
   "source": [
    "**Réponse** : D'après l'énoncé, *Léa estime que si elle vient de gagner une partie, elle gagne la suivante dans 70% des cas.* Donc la probabilité d'une défaite après une victoire est égale à $0,3$."
   ]
  },
  {
   "cell_type": "markdown",
   "id": "3126a5f0",
   "metadata": {},
   "source": [
    "**Question 2** : Calculer $g_2$. Comparer ce résultat avec celui obtenu empiriquement dans la partie A."
   ]
  },
  {
   "cell_type": "markdown",
   "id": "cd28e840",
   "metadata": {},
   "source": [
    "**Réponse** :\n",
    "$$\n",
    "    g_2 = P(G_2) = P(G_2 \\cap G_1) + P(G_2 \\cap D_1) = P_{G_1}(G_2) P(G_1) + P_{D_1}(G_2) P(D_1) = 0,7 \\times 0,5 + 0,2 \\times 0,5 = 0,45\n",
    "$$"
   ]
  },
  {
   "cell_type": "markdown",
   "id": "90801232",
   "metadata": {},
   "source": [
    "**Question 3** : Montrer que, pour tout entier naturel $n$ non nul, $g_{n+1} = 0,5 \\times g_n + 0,2$."
   ]
  },
  {
   "cell_type": "markdown",
   "id": "7ce821b9",
   "metadata": {},
   "source": [
    "**Réponse** :\n",
    "\n",
    "$$\n",
    "    g_{n+1} = P(G_{n+1}) = P(G_{n+1} \\cap G_n) + P(G_{n+1} \\cap D_n) = P_{G_n}(G_{n+1}) P(G_n) + P_{D_n}(G_{n+1}) P(D_n) = 0,7 \\times g_n + 0,2 \\times (1 - g_n) = 0,5 \\times g_n + 0,2\n",
    "$$"
   ]
  },
  {
   "cell_type": "markdown",
   "id": "799eb46f",
   "metadata": {},
   "source": [
    "Pour tout entier naturel $n$ non nul, on pose $v_n = g_n - 0,4$\n",
    "\n",
    "**Question 4** : Montrer que la suite $(v_n)$ est géométrique. On précisera son premier terme et sa raison."
   ]
  },
  {
   "cell_type": "markdown",
   "id": "c5eb912a",
   "metadata": {},
   "source": [
    "**Réponse** :\n",
    "\n",
    "$$\n",
    "    \\forall n \\geq 1, \\; v_{n+1} = g_{n+1} - 0,4 = 0,5 g_n + 0,2 - 0,4 = 0,5 (v_n + 0,4) - 0,2 = 0,5 \\times v_n\n",
    "$$\n",
    "\n",
    "Donc $(v_n)$ est une suite géométrique dont :\n",
    "* le premier terme est $v_1 = g_1 - 0,4 = 0,5 - 0,4 = 0,1$, et\n",
    "* la raison est $0,5$."
   ]
  },
  {
   "cell_type": "markdown",
   "id": "465a17b7",
   "metadata": {},
   "source": [
    "**Question 5** : Montrer que, pour tout entier naturel $n$ non nul : $g_n = 0,1 \\times 0,5^{n-1} + 0,4$."
   ]
  },
  {
   "cell_type": "markdown",
   "id": "468a6425",
   "metadata": {},
   "source": [
    "**Réponse** :\n",
    "$$\n",
    "    \\forall n \\geq 1, \\; v_n = 0,1 \\times 0,5^{n-1} \\quad\\text{et}\\quad v_n = g_n - 0,4\n",
    "$$\n",
    "Donc :\n",
    "$$\n",
    "    \\forall n \\geq 1, \\; g_n = 0,1 \\times 0,5^{n-1} + 0,4\n",
    "$$"
   ]
  },
  {
   "cell_type": "markdown",
   "id": "c4e30a7e",
   "metadata": {},
   "source": [
    "**Question 6** : Étudier les variations de la suite $(g_n)$"
   ]
  },
  {
   "cell_type": "code",
   "execution_count": 53,
   "id": "a529f228",
   "metadata": {},
   "outputs": [],
   "source": [
    "n = sp.Symbol(\"x\", real=True, positive=True)\n",
    "g = 0.1 * 0.5 ** (n - 1) + 0.4"
   ]
  },
  {
   "cell_type": "code",
   "execution_count": 54,
   "id": "d8e4c547",
   "metadata": {},
   "outputs": [
    {
     "data": {
      "text/plain": [
       "[]"
      ]
     },
     "execution_count": 54,
     "metadata": {},
     "output_type": "execute_result"
    }
   ],
   "source": [
    "sp.solve(sp.diff(g, n), n)"
   ]
  },
  {
   "cell_type": "code",
   "execution_count": 55,
   "id": "38e71b67",
   "metadata": {},
   "outputs": [
    {
     "data": {
      "text/latex": [
       "$\\displaystyle -0.0693147180559945$"
      ],
      "text/plain": [
       "-0.0693147180559945"
      ]
     },
     "execution_count": 55,
     "metadata": {},
     "output_type": "execute_result"
    }
   ],
   "source": [
    "sp.diff(g, n).subs(n, 1)"
   ]
  },
  {
   "cell_type": "markdown",
   "id": "25b0bf72",
   "metadata": {},
   "source": [
    "**Réponse** :\n",
    "\n",
    "* *Version 1* : Le premier terme est strictement positif et la raison est strictement comprise entre $0$ et $1$, donc la suite est strictement décroissante.\n",
    "* *Version 2* : La dérivée est strictement négative, donc la suite est décroissante."
   ]
  },
  {
   "cell_type": "markdown",
   "id": "67b72c16",
   "metadata": {},
   "source": [
    "**Question 7** : Donner, en la justifiant, la limite de la suite $(g_n)$. Comparer ce résultat à celui obtenu empiriquement dans la partie A."
   ]
  },
  {
   "cell_type": "code",
   "execution_count": 56,
   "id": "f13344f0",
   "metadata": {},
   "outputs": [
    {
     "data": {
      "text/latex": [
       "$\\displaystyle \\frac{2}{5}$"
      ],
      "text/plain": [
       "2/5"
      ]
     },
     "execution_count": 56,
     "metadata": {},
     "output_type": "execute_result"
    }
   ],
   "source": [
    "sp.limit(g, n, sp.oo)"
   ]
  },
  {
   "cell_type": "markdown",
   "id": "322aef9b",
   "metadata": {},
   "source": [
    "**Question 8** : Déterminer, par le calcul, le plus petit entier $n$ tel que $g_n - 0,4 \\leq 0,001$."
   ]
  },
  {
   "cell_type": "code",
   "execution_count": 57,
   "id": "774f7881",
   "metadata": {},
   "outputs": [
    {
     "data": {
      "text/plain": [
       "[7.64385618977472]"
      ]
     },
     "execution_count": 57,
     "metadata": {},
     "output_type": "execute_result"
    }
   ],
   "source": [
    "sp.solve(g - 0.4 - 0.001, n)"
   ]
  },
  {
   "cell_type": "code",
   "execution_count": 58,
   "id": "b8224fba",
   "metadata": {},
   "outputs": [
    {
     "data": {
      "text/latex": [
       "$\\displaystyle \\text{False}$"
      ],
      "text/plain": [
       "False"
      ]
     },
     "execution_count": 58,
     "metadata": {},
     "output_type": "execute_result"
    }
   ],
   "source": [
    "g.subs(n, 7) - 0.4 <= 0.001"
   ]
  },
  {
   "cell_type": "code",
   "execution_count": 59,
   "id": "6ea25f5d",
   "metadata": {},
   "outputs": [
    {
     "data": {
      "text/latex": [
       "$\\displaystyle \\text{True}$"
      ],
      "text/plain": [
       "True"
      ]
     },
     "execution_count": 59,
     "metadata": {},
     "output_type": "execute_result"
    }
   ],
   "source": [
    "g.subs(n, 8) - 0.4 <= 0.001"
   ]
  },
  {
   "cell_type": "markdown",
   "id": "85f288c3",
   "metadata": {},
   "source": [
    "**Question 9** : Recopier et compléter les lignes 4, 5, et 6 de la fonction Python suivante, qui renvoie le plus petit rang à partir duquel les termes de la suite $(g_n)$ sont tous inférieurs ou égaux à $0,4 + e$, où $e$ est un nombre réel strictement positif.\n",
    "\n",
    "```python\n",
    "def seuil(e):\n",
    "    g = 0.5\n",
    "    n = 1\n",
    "    while ...:\n",
    "        g = 0.5 * g + 0.2\n",
    "        n = ...\n",
    "    return n\n",
    "```"
   ]
  },
  {
   "cell_type": "markdown",
   "id": "f6d10538",
   "metadata": {},
   "source": [
    "**Réponse** :"
   ]
  },
  {
   "cell_type": "code",
   "execution_count": 60,
   "id": "b9911286",
   "metadata": {},
   "outputs": [],
   "source": [
    "def seuil(e):\n",
    "    g = 0.5\n",
    "    n = 1\n",
    "    while g - 0.4 > e:\n",
    "        g = 0.5 * g + 0.2\n",
    "        n += 1\n",
    "    return n"
   ]
  },
  {
   "cell_type": "code",
   "execution_count": 61,
   "id": "b9aeae36",
   "metadata": {},
   "outputs": [
    {
     "data": {
      "text/plain": [
       "8"
      ]
     },
     "execution_count": 61,
     "metadata": {},
     "output_type": "execute_result"
    }
   ],
   "source": [
    "seuil(0.001)"
   ]
  },
  {
   "cell_type": "markdown",
   "id": "05e2432f",
   "metadata": {},
   "source": [
    "### Exercice 3\n",
    "\n",
    "*Cet exercice correspond à un exercice typique d'analyse de l'épreuve de spécialité mathématiques du baccalauréat général.\n",
    "Il est tombé au baccalauréat Asie de 2024.\n",
    "**Certaines quesions sont légèrement modifiées par rapport au sujet original.**\n",
    "Le sujet complet peut être téléchargé [ici](https://www.education.gouv.fr/media/195452/download).*\n",
    "\n",
    "* On considère la fonction $𝑓$ définie sur $]0 ; +\\infty[$ par $f(x) = x^2 - x \\ln(x)$.\n",
    "* On admet que $f$ est deux fois dérivable sur $]0 ; +\\infty[$.\n",
    "* On note $f'$ la fonction dérivée de la fonction $f$ et $f''$ la fonction dérivée de la fonction $f'$."
   ]
  },
  {
   "cell_type": "markdown",
   "id": "a735ce02",
   "metadata": {},
   "source": [
    "#### Partie A : Étude de la fonction $f$\n",
    "\n",
    "**Question 1** : Déterminer les limites de la fonction $f$ en $0$ et $+\\infty$."
   ]
  },
  {
   "cell_type": "code",
   "execution_count": 62,
   "id": "390f5030",
   "metadata": {},
   "outputs": [],
   "source": [
    "x = sp.Symbol(\"x\", real=True, positive=True)\n",
    "f = x ** 2 - x * sp.log(x)"
   ]
  },
  {
   "cell_type": "code",
   "execution_count": 63,
   "id": "37c0b5f9",
   "metadata": {},
   "outputs": [
    {
     "data": {
      "text/latex": [
       "$\\displaystyle 0$"
      ],
      "text/plain": [
       "0"
      ]
     },
     "execution_count": 63,
     "metadata": {},
     "output_type": "execute_result"
    }
   ],
   "source": [
    "sp.limit(f, x, 0)"
   ]
  },
  {
   "cell_type": "code",
   "execution_count": 64,
   "id": "8cb2cdc0",
   "metadata": {},
   "outputs": [
    {
     "data": {
      "text/latex": [
       "$\\displaystyle \\infty$"
      ],
      "text/plain": [
       "oo"
      ]
     },
     "execution_count": 64,
     "metadata": {},
     "output_type": "execute_result"
    }
   ],
   "source": [
    "sp.limit(f, x, sp.oo)"
   ]
  },
  {
   "cell_type": "markdown",
   "id": "94b94710",
   "metadata": {},
   "source": [
    "**Question 2** : Pour tout réel $x$ strictement positif, calculer $f'(x)$."
   ]
  },
  {
   "cell_type": "code",
   "execution_count": 65,
   "id": "94841354",
   "metadata": {},
   "outputs": [
    {
     "data": {
      "text/latex": [
       "$\\displaystyle 2 x - \\log{\\left(x \\right)} - 1$"
      ],
      "text/plain": [
       "2*x - log(x) - 1"
      ]
     },
     "execution_count": 65,
     "metadata": {},
     "output_type": "execute_result"
    }
   ],
   "source": [
    "f_prime = sp.diff(f, x)\n",
    "f_prime"
   ]
  },
  {
   "cell_type": "markdown",
   "id": "3fa939a1",
   "metadata": {},
   "source": [
    "**Question 3** : Montrer que pour tout réel $x$ strictement positif :\n",
    "$$\n",
    "    f''(x) = \\frac{2x - 1}{x}\n",
    "$$"
   ]
  },
  {
   "cell_type": "code",
   "execution_count": 66,
   "id": "bf14bc6f",
   "metadata": {},
   "outputs": [
    {
     "data": {
      "text/latex": [
       "$\\displaystyle 2 - \\frac{1}{x}$"
      ],
      "text/plain": [
       "2 - 1/x"
      ]
     },
     "execution_count": 66,
     "metadata": {},
     "output_type": "execute_result"
    }
   ],
   "source": [
    "f_seconde = sp.diff(f, x, 2)\n",
    "f_seconde"
   ]
  },
  {
   "cell_type": "markdown",
   "id": "bd10421d",
   "metadata": {},
   "source": [
    "**Question 4** : Étudier les variations de la fonction $f'$ sur $]0, +\\infty[$, puis dresser le tableau de variations de la fonction $f'$ sur $]0, +\\infty[$."
   ]
  },
  {
   "cell_type": "code",
   "execution_count": 67,
   "id": "2cdf2e1a",
   "metadata": {},
   "outputs": [
    {
     "data": {
      "text/plain": [
       "[1/2]"
      ]
     },
     "execution_count": 67,
     "metadata": {},
     "output_type": "execute_result"
    }
   ],
   "source": [
    "sp.solve(f_seconde, x)"
   ]
  },
  {
   "cell_type": "code",
   "execution_count": 68,
   "id": "1a2e1b5e",
   "metadata": {},
   "outputs": [
    {
     "data": {
      "text/latex": [
       "$\\displaystyle -1$"
      ],
      "text/plain": [
       "-1"
      ]
     },
     "execution_count": 68,
     "metadata": {},
     "output_type": "execute_result"
    }
   ],
   "source": [
    "sp.sign(f_seconde.subs(x, sp.Rational(1, 4)))"
   ]
  },
  {
   "cell_type": "code",
   "execution_count": 69,
   "id": "7a4e81c6",
   "metadata": {},
   "outputs": [
    {
     "data": {
      "text/latex": [
       "$\\displaystyle 1$"
      ],
      "text/plain": [
       "1"
      ]
     },
     "execution_count": 69,
     "metadata": {},
     "output_type": "execute_result"
    }
   ],
   "source": [
    "sp.sign(f_seconde.subs(x, sp.Rational(3, 4)))"
   ]
  },
  {
   "cell_type": "markdown",
   "id": "e5d2934b",
   "metadata": {},
   "source": [
    "**Réponse** :\n",
    "\n",
    "* $f''$ est strictement négative sur $\\left] 0, \\frac{1}{2} \\right[$ et strictement positive sur $\\left] \\frac{1}{2}, +\\infty \\right[$.\n",
    "* $f'$ est donc strictement décroissante sur $\\left] 0, \\frac{1}{2} \\right[$ et strictement croissante sur $\\left] \\frac{1}{2}, +\\infty \\right[$."
   ]
  },
  {
   "cell_type": "markdown",
   "id": "ca1863d0",
   "metadata": {},
   "source": [
    "**Question 5** : Montrer que la fonction $f$ est strictement croissante sur $]0, +\\infty[$."
   ]
  },
  {
   "cell_type": "code",
   "execution_count": 70,
   "id": "7c9aa624",
   "metadata": {},
   "outputs": [
    {
     "data": {
      "text/plain": [
       "[]"
      ]
     },
     "execution_count": 70,
     "metadata": {},
     "output_type": "execute_result"
    }
   ],
   "source": [
    "sp.solve(f_prime, x)"
   ]
  },
  {
   "cell_type": "code",
   "execution_count": 71,
   "id": "0f4afaaa",
   "metadata": {},
   "outputs": [
    {
     "data": {
      "text/latex": [
       "$\\displaystyle 1$"
      ],
      "text/plain": [
       "1"
      ]
     },
     "execution_count": 71,
     "metadata": {},
     "output_type": "execute_result"
    }
   ],
   "source": [
    "sp.sign(f_prime.subs(x, sp.Rational(1, 2)))"
   ]
  },
  {
   "cell_type": "markdown",
   "id": "13826a30",
   "metadata": {},
   "source": [
    "**Réponse** :\n",
    "\n",
    "* Le minimum de $f'$ sur $]0, \\infty[$ est donc atteint en $\\frac{1}{2}$.\n",
    "* $f'(\\frac{1}{2}) = - \\ln(\\frac{1}{2}) = \\ln(2) > 0$\n",
    "* $f'$ est donc strictement positive $]0, +\\infty[$.\n",
    "* $f$ est donc stricement croissante sur $]0, +\\infty[$."
   ]
  },
  {
   "cell_type": "markdown",
   "id": "867b3ce2",
   "metadata": {},
   "source": [
    "#### Partie B : Étude d'une fonction auxiliaire pour la résolution de l'équation $f(x) = x$\n",
    "\n",
    "* On considère dans cette partie la fonction $g$ définie sur $]0, +\\infty[$ par $g(x) = x - \\ln(x)$.\n",
    "* On admet que la fonction $g$ est dérivable $]0, +\\infty[$, on note $g'$ sa dérivée.\n",
    "\n",
    "**Question 1** : Pour tout réel strictement positif, calculer $g'(x)$, puis dresser le tableau des variations de la fonction $g$. Les limites de la fonction $g$ aux bornes de l'intervalle de définition ne sont pas attendues."
   ]
  },
  {
   "cell_type": "code",
   "execution_count": 72,
   "id": "72f2d619",
   "metadata": {},
   "outputs": [
    {
     "data": {
      "text/latex": [
       "$\\displaystyle 1 - \\frac{1}{x}$"
      ],
      "text/plain": [
       "1 - 1/x"
      ]
     },
     "execution_count": 72,
     "metadata": {},
     "output_type": "execute_result"
    }
   ],
   "source": [
    "g = x - sp.log(x)\n",
    "g_prime = sp.diff(g, x)\n",
    "g_prime"
   ]
  },
  {
   "cell_type": "code",
   "execution_count": 73,
   "id": "0fab7124",
   "metadata": {},
   "outputs": [
    {
     "data": {
      "text/plain": [
       "[1]"
      ]
     },
     "execution_count": 73,
     "metadata": {},
     "output_type": "execute_result"
    }
   ],
   "source": [
    "sp.solve(g_prime, x)"
   ]
  },
  {
   "cell_type": "code",
   "execution_count": 74,
   "id": "a1aca9c2",
   "metadata": {},
   "outputs": [
    {
     "data": {
      "text/latex": [
       "$\\displaystyle -1$"
      ],
      "text/plain": [
       "-1"
      ]
     },
     "execution_count": 74,
     "metadata": {},
     "output_type": "execute_result"
    }
   ],
   "source": [
    "sp.sign(g_prime.subs(x, sp.Rational(1, 2)))"
   ]
  },
  {
   "cell_type": "code",
   "execution_count": 75,
   "id": "9338b2c2",
   "metadata": {},
   "outputs": [
    {
     "data": {
      "text/latex": [
       "$\\displaystyle 1$"
      ],
      "text/plain": [
       "1"
      ]
     },
     "execution_count": 75,
     "metadata": {},
     "output_type": "execute_result"
    }
   ],
   "source": [
    "sp.sign(g_prime.subs(x, sp.Rational(3, 2)))"
   ]
  },
  {
   "cell_type": "code",
   "execution_count": 76,
   "id": "2041d94b",
   "metadata": {},
   "outputs": [
    {
     "data": {
      "text/latex": [
       "$\\displaystyle 1$"
      ],
      "text/plain": [
       "1"
      ]
     },
     "execution_count": 76,
     "metadata": {},
     "output_type": "execute_result"
    }
   ],
   "source": [
    "g.subs(x, 1)"
   ]
  },
  {
   "cell_type": "markdown",
   "id": "5fa99103",
   "metadata": {},
   "source": [
    "**Réponse** :\n",
    "\n",
    "* $g'$ s'annule uniquement en 1, est strictement négative sur $]0, 1[$ et strictement positive sur $]1, +\\infty[$.\n",
    "* $g$ est donc strictement décroissante sur $]0, 1[$ et strictement croissante sur $]1, +\\infty[$. $g(1) = 1$"
   ]
  },
  {
   "cell_type": "markdown",
   "id": "b52a151b",
   "metadata": {},
   "source": [
    "**Question 2** : On admet que $1$ est l'unique solution de l'équation $g(x) = 1$. Résoudre, sur l'intervalle $]0, +\\infty[$, l'équation $f(x) = x$."
   ]
  },
  {
   "cell_type": "code",
   "execution_count": 77,
   "id": "b975b178",
   "metadata": {},
   "outputs": [
    {
     "data": {
      "text/plain": [
       "[1]"
      ]
     },
     "execution_count": 77,
     "metadata": {},
     "output_type": "execute_result"
    }
   ],
   "source": [
    "sp.solve(f - x, x)"
   ]
  },
  {
   "cell_type": "markdown",
   "id": "b2830ee6",
   "metadata": {},
   "source": [
    "**Réponse** : $1$ est donc l'unique solution de l'équation $f(x) = x$ car :\n",
    "\n",
    "$$\n",
    "    \\forall x > 0, \\; g(x) = 1 \\Longleftrightarrow x g(x) = x \\Longleftrightarrow f(x) = x\n",
    "$$"
   ]
  },
  {
   "cell_type": "markdown",
   "id": "c155e8b7",
   "metadata": {},
   "source": [
    "#### Partie C : Étude d'une suite récurrente\n",
    "\n",
    "On considère la suite $(u_n)$ définie par $u_0 = \\frac{1}{2}$ et pour tout entier naturel $n$,\n",
    "$$\n",
    "    u_{n+1} = f(u_n) = u_n^2 - u_n \\ln(u_n).\n",
    "$$\n",
    "\n",
    "**Question 1** : Montrer par récurrence que pour tout entier naturel $n$ : $\\frac{1}{2} \\leq u_n \\leq u_{n+1} \\leq 1$."
   ]
  },
  {
   "cell_type": "markdown",
   "id": "b31bf8a9",
   "metadata": {},
   "source": [
    "**Réponse** :\n",
    "\n",
    "* Initialisation :\n",
    "    + $u_1 = f(u_0) = \\frac{1}{4} - \\frac{1}{2} \\ln(\\frac{1}{2}) = \\frac{1}{4} + \\frac{\\ln(2)}{2}$\n",
    "    + $0 \\leq \\frac{\\ln(2)}{2} \\leq \\frac{\\ln(e)}{2} = \\frac{1}{2}$\n",
    "    + Donc $\\frac{1}{2} \\leq u_0 \\leq u_1 = \\frac{1}{4} + \\frac{\\ln(2)}{2} \\leq \\frac{1}{4} + \\frac{1}{2} \\leq 1$\n",
    "\n",
    "* Récurrence : Supposons que $\\frac{1}{2} \\leq u_n \\leq u_{n+1} \\leq 1$ pour un entier naturel $n$. Alors :\n",
    "    + La fonction $f$ étant strictement croissante sur $]0, +\\infty[$, on a :\n",
    "    $$\n",
    "        f(\\frac{1}{2}) \\leq f(u_n) \\leq f(u_{n+1}) \\leq f(1)\n",
    "    $$\n",
    "    + $f(\\frac{1}{2}) = f(u_0) = u_1 \\geq \\frac{1}{2}$ (prouvé à l'initialisation)\n",
    "    + $f(1) = 1$ d'après la question B.2\n",
    "    + $f(u_n) = u_{n+1}$ et $f(u_{n+1}) = u_{n+2}$ par définition\n",
    "    + On a donc :\n",
    "    $$\n",
    "        \\frac{1}{2} \\leq u_{n+1} \\leq u_{n+2} \\leq 1\n",
    "    $$\n"
   ]
  },
  {
   "cell_type": "markdown",
   "id": "ed800557",
   "metadata": {},
   "source": [
    "**Question 2** : Justifier que la suite $(u_n)$ converge."
   ]
  },
  {
   "cell_type": "markdown",
   "id": "bf1846b3",
   "metadata": {},
   "source": [
    "**Réponse** : La suite $(u_n)$ est croissante et majorée, donc elle converge."
   ]
  },
  {
   "cell_type": "markdown",
   "id": "03b18aea",
   "metadata": {},
   "source": [
    "On appelle $l$ la limite de la suite $(u_n)$ et on admet que $l$ vérifie l'égalité $f(l) = l$.\n",
    "\n",
    "**Question 3** : Déterminer la valeur de $l$."
   ]
  },
  {
   "cell_type": "markdown",
   "id": "cfdcfcef",
   "metadata": {},
   "source": [
    "**Réponse** : D'après la question B.2, l'unique solution de l'équation $f(x) = x$ sur l'intervalle $]0, +\\infty[$ est $1$. Par conséquent, $l= 1$."
   ]
  }
 ],
 "metadata": {
  "kernelspec": {
   "display_name": "Python 3 (ipykernel)",
   "language": "python",
   "name": "python3"
  },
  "language_info": {
   "codemirror_mode": {
    "name": "ipython",
    "version": 3
   },
   "file_extension": ".py",
   "mimetype": "text/x-python",
   "name": "python",
   "nbconvert_exporter": "python",
   "pygments_lexer": "ipython3",
   "version": "3.10.13"
  }
 },
 "nbformat": 4,
 "nbformat_minor": 5
}
